{
  "nbformat": 4,
  "nbformat_minor": 0,
  "metadata": {
    "colab": {
      "name": "style-transfer-pytorch.ipynb",
      "provenance": [],
      "collapsed_sections": [
        "zAfkwFYSbuHe",
        "AY145cYB23TH",
        "oAkwiEmR3T7S"
      ],
      "toc_visible": true,
      "include_colab_link": true
    },
    "kernelspec": {
      "name": "python3",
      "display_name": "Python 3"
    },
    "accelerator": "GPU"
  },
  "cells": [
    {
      "cell_type": "markdown",
      "metadata": {
        "id": "view-in-github",
        "colab_type": "text"
      },
      "source": [
        "<a href=\"https://colab.research.google.com/github/aertist/style-transfer-pytorch/blob/master/style_transfer_pytorch.ipynb\" target=\"_parent\"><img src=\"https://colab.research.google.com/assets/colab-badge.svg\" alt=\"Open In Colab\"/></a>"
      ]
    },
    {
      "cell_type": "markdown",
      "metadata": {
        "id": "kCKc9hUEjDjX"
      },
      "source": [
        "**Neural style transfer in PyTorch**"
      ]
    },
    {
      "cell_type": "markdown",
      "metadata": {
        "id": "hHcDg9ZAbrMm"
      },
      "source": [
        "#**Setup**"
      ]
    },
    {
      "cell_type": "markdown",
      "metadata": {
        "id": "qzLpOt7Xi4wk"
      },
      "source": [
        "**Clone The Awesome Repo**"
      ]
    },
    {
      "cell_type": "code",
      "metadata": {
        "id": "Mhz82oX2V3mo"
      },
      "source": [
        "!git clone https://github.com/aertist/style-transfer-pytorch.git -q"
      ],
      "execution_count": null,
      "outputs": []
    },
    {
      "cell_type": "code",
      "metadata": {
        "id": "eIm2_Hs1-lBM"
      },
      "source": [
        "cd /content/style-transfer-pytorch"
      ],
      "execution_count": null,
      "outputs": []
    },
    {
      "cell_type": "markdown",
      "metadata": {
        "id": "ZZiiKgnTixfM"
      },
      "source": [
        "**You Will Have to Restart The Session After this Step**"
      ]
    },
    {
      "cell_type": "code",
      "metadata": {
        "id": "5TVh2t0vV-O9"
      },
      "source": [
        "!pip install -e /content/style-transfer-pytorch -q"
      ],
      "execution_count": null,
      "outputs": []
    },
    {
      "cell_type": "code",
      "metadata": {
        "id": "eRmmd3ojFbb7"
      },
      "source": [
        "import os\r\n",
        "def restart_runtime():\r\n",
        "  os.kill(os.getpid(), 9)"
      ],
      "execution_count": null,
      "outputs": []
    },
    {
      "cell_type": "markdown",
      "metadata": {
        "id": "GaySvFZ8imAw"
      },
      "source": [
        "**First Restart The Session And Then Execute This Cell**"
      ]
    },
    {
      "cell_type": "code",
      "metadata": {
        "id": "O9P0lV8zFnID"
      },
      "source": [
        "!pip install torch==1.7.1+cu101 torchvision==0.8.2+cu101 torchaudio==0.7.2 -f https://download.pytorch.org/whl/torch_stable.html -q"
      ],
      "execution_count": null,
      "outputs": []
    },
    {
      "cell_type": "markdown",
      "metadata": {
        "id": "9gusUdG54-La"
      },
      "source": [
        "\r\n",
        "\r\n",
        "---\r\n",
        "\r\n",
        "---\r\n",
        "\r\n",
        "\r\n",
        "\r\n"
      ]
    },
    {
      "cell_type": "markdown",
      "metadata": {
        "id": "KdFyn1v43c7G"
      },
      "source": [
        "\r\n",
        "\r\n",
        "*   Optimal content_weight - 0.01 to 0.05 \r\n",
        "\r\n",
        "\r\n",
        "\r\n"
      ]
    },
    {
      "cell_type": "markdown",
      "metadata": {
        "id": "AY145cYB23TH"
      },
      "source": [
        "#**For Two Style Images**"
      ]
    },
    {
      "cell_type": "code",
      "metadata": {
        "id": "RAuqlnP21450"
      },
      "source": [
        "#@title **Style Transfer Tool** { display-mode: \"form\" }\n",
        "#@markdown **Input Output And Style Images:**\n",
        "\n",
        "content_image = \"ts\" #@param {type:\"string\"}\n",
        "content_image_fmt = \"jpg\" #@param [\"jpg\", \"png\", \"jpeg\", \"webp\"]\n",
        "\n",
        "style_image1 = \"style7\" #@param {type:\"string\"}\n",
        "style_image_fmt1 = \"jpg\" #@param [\"jpg\", \"png\", \"jpeg\", \"webp\"]\n",
        "style_image2 = \"galaxy2\" #@param {type:\"string\"}\n",
        "style_image_fmt2 = \"jpg\" #@param [\"jpg\", \"png\", \"jpeg\", \"webp\"]\n",
        "#@markdown ---\n",
        "\n",
        "#@markdown **Weights And Pooling:**\n",
        "style_weights = \"1 2\" #@param [\"1\", \"1 1\", \"1 2\", \"2 1\"]\n",
        "content_weight = 0.03 #@param {type:\"slider\", min:0, max:0.5, step:0.01}\n",
        "tv_weight = 0.8 #@param {type:\"slider\", min:0, max:2, step:0.1}\n",
        "pooling = \"max\" #@param [\"average\", \"max\", \"l2\"]\n",
        "init = \"content\" #@param [\"content\", \"gray\", \"uniform\", \"style_mean\"]\n",
        "\n",
        "#@markdown --- \n",
        "\n",
        "#@markdown **Optimization:** \n",
        "start_sacle = \"256\" #@param [\"128\", \"256\", \"512\"]\n",
        "max_scale = 1920 #@param [\"720\", \"1080\", \"1280\", \"1920\", \"2000\", \"3000\", \"4000\"] {type:\"raw\"}\n",
        "iterations = 300 #@param {type:\"slider\", min:50, max:2000, step:50}\n",
        "first_frame_iterations = 1000 #@param {type:\"slider\", min:100, max:5000, step:100}\n",
        "step_size = 0.04 #@param {type:\"slider\", min:0.01, max:1, step:0.01}\n",
        "avg_decay = 0.99 #@param {type:\"slider\", min:0, max:1, step:0.01}\n",
        "\n",
        "#@markdown ---\n",
        "\n",
        "#@markdown **Other Settings:**\n",
        "style_scale_fac = 1 #@param {type:\"slider\", min:0, max:10, step:0.2}\n",
        "style_size = \"512\" #@param [\"256\", \"512\", \"720\", \"1080\", \"1280\", \"1920\"]\n",
        "\n",
        "\n",
        "!style_transfer \\\n",
        "/content/style-transfer-pytorch/input/{content_image}.{content_image_fmt} \\\n",
        "/content/style-transfer-pytorch/styles/{style_image1}.{style_image_fmt1} /content/style-transfer-pytorch/styles/{style_image2}.{style_image_fmt2} \\\n",
        "-o /content/style-transfer-pytorch/output/\"{content_image}\"_\"{style_image1}\"_\"{style_image2}\"_out.png \\\n",
        "-ms {start_sacle} \\\n",
        "-s {max_scale} \\\n",
        "-i {iterations} \\\n",
        "-ii {first_frame_iterations} \\\n",
        "-ss {step_size} \\\n",
        "-ad {avg_decay} \\\n",
        "-sw {style_weights} \\\n",
        "-cw {content_weight} \\\n",
        "-tw {tv_weight} \\\n",
        "--pooling {pooling} \\\n",
        "--init {init} \\\n",
        "--style-scale-fac {style_scale_fac} \\\n",
        "--style-size {style_size} \\\n",
        "--save-every 50 \\\n",
        "--device cuda:0 \\"
      ],
      "execution_count": null,
      "outputs": []
    },
    {
      "cell_type": "markdown",
      "metadata": {
        "id": "CXbfwtLJ47Yz"
      },
      "source": [
        "\r\n",
        "\r\n",
        "---\r\n",
        "\r\n",
        "---\r\n",
        "\r\n",
        "\r\n",
        "\r\n"
      ]
    },
    {
      "cell_type": "markdown",
      "metadata": {
        "id": "zAfkwFYSbuHe"
      },
      "source": [
        "#**For One Style Image**"
      ]
    },
    {
      "cell_type": "code",
      "metadata": {
        "id": "HQPY_Eo-WGHK"
      },
      "source": [
        "#@title **Style Transfer Tool** { display-mode: \"form\" }\n",
        "#@markdown **Input Output And Style Images:**\n",
        "\n",
        "content_image = \"ts\" #@param {type:\"string\"}\n",
        "content_image_fmt = \"jpg\" #@param [\"jpg\", \"png\", \"jpeg\", \"webp\"]\n",
        "style_image = \"style2\" #@param {type:\"string\"}\n",
        "style_image_fmt = \"jpg\" #@param [\"jpg\", \"png\", \"jpeg\", \"webp\"]\n",
        "#output_name = \"out\" #@param {type:\"raw\"}\n",
        "\n",
        "#@markdown ---\n",
        "\n",
        "#@markdown **Weights And Pooling:**\n",
        "style_weights = 1 #@param [\"1\"] {type:\"raw\"}\n",
        "content_weight = 0.03 #@param {type:\"slider\", min:0, max:1, step:0.01}\n",
        "tv_weight = 0.8 #@param {type:\"slider\", min:0, max:2, step:0.1}\n",
        "pooling = \"max\" #@param [\"average\", \"max\", \"l2\"]\n",
        "init = \"content\" #@param [\"content\", \"gray\", \"uniform\", \"style_mean\"]\n",
        "\n",
        "#@markdown --- \n",
        "\n",
        "#@markdown **Optimization:** \n",
        "start_sacle = \"256\" #@param [\"128\", \"256\", \"512\"]\n",
        "max_scale = 1920 #@param [\"720\", \"1080\", \"1280\", \"1920\", \"2000\", \"3000\", \"4000\"] {type:\"raw\"}\n",
        "iterations = 300 #@param {type:\"slider\", min:50, max:2000, step:50}\n",
        "first_frame_iterations = 1000 #@param {type:\"slider\", min:100, max:5000, step:100}\n",
        "step_size = 0.04 #@param {type:\"slider\", min:0.01, max:1, step:0.01}\n",
        "avg_decay = 0.99 #@param {type:\"slider\", min:0, max:1, step:0.01}\n",
        "\n",
        "#@markdown ---\n",
        "\n",
        "#@markdown **Other Settings:**\n",
        "style_scale_fac = 1 #@param {type:\"slider\", min:0, max:10, step:0.2}\n",
        "style_size = \"512\" #@param [\"256\", \"512\", \"720\", \"1080\", \"1280\", \"1920\"]\n",
        "\n",
        "\n",
        "!style_transfer \\\n",
        "/content/style-transfer-pytorch/input/{content_image}.{content_image_fmt} \\\n",
        "/content/style-transfer-pytorch/styles/{style_image}.{style_image_fmt} \\\n",
        "-o /content/style-transfer-pytorch/output/\"{content_image}\"_\"{style_image}\"_out.png \\\n",
        "-ms {start_sacle} \\\n",
        "-s {max_scale} \\\n",
        "-i {iterations} \\\n",
        "-ii {first_frame_iterations} \\\n",
        "-ss {step_size} \\\n",
        "-ad {avg_decay} \\\n",
        "-sw {style_weights} \\\n",
        "-cw {content_weight} \\\n",
        "-tw {tv_weight} \\\n",
        "--pooling {pooling} \\\n",
        "--init {init} \\\n",
        "--style-scale-fac {style_scale_fac} \\\n",
        "--style-size {style_size} \\\n",
        "--save-every 50 \\\n",
        "--device cuda:0 \\"
      ],
      "execution_count": null,
      "outputs": []
    },
    {
      "cell_type": "markdown",
      "metadata": {
        "id": "_LbZxqne424r"
      },
      "source": [
        "\r\n",
        "\r\n",
        "---\r\n",
        "\r\n",
        "---\r\n",
        "\r\n",
        "\r\n",
        "\r\n"
      ]
    },
    {
      "cell_type": "markdown",
      "metadata": {
        "id": "oAkwiEmR3T7S"
      },
      "source": [
        "#**Notes**"
      ]
    },
    {
      "cell_type": "code",
      "metadata": {
        "id": "Pj_bTl5YlxAv"
      },
      "source": [
        "!style_transfer --help"
      ],
      "execution_count": null,
      "outputs": []
    }
  ]
}